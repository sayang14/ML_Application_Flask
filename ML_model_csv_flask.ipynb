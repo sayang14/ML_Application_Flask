{
 "cells": [
  {
   "cell_type": "code",
   "execution_count": 1,
   "id": "7685ee04",
   "metadata": {},
   "outputs": [
    {
     "name": "stderr",
     "output_type": "stream",
     "text": [
      "2022-12-23 18:19:39.517534: I tensorflow/core/util/util.cc:169] oneDNN custom operations are on. You may see slightly different numerical results due to floating-point round-off errors from different computation orders. To turn them off, set the environment variable `TF_ENABLE_ONEDNN_OPTS=0`.\n",
      "2022-12-23 18:19:39.520303: W tensorflow/stream_executor/platform/default/dso_loader.cc:64] Could not load dynamic library 'libcudart.so.11.0'; dlerror: libcudart.so.11.0: cannot open shared object file: No such file or directory\n",
      "2022-12-23 18:19:39.520312: I tensorflow/stream_executor/cuda/cudart_stub.cc:29] Ignore above cudart dlerror if you do not have a GPU set up on your machine.\n"
     ]
    }
   ],
   "source": [
    "import pandas as pd\n",
    "import numpy as np\n",
    "import tensorflow as tf\n",
    "from tensorflow.keras import layers"
   ]
  },
  {
   "cell_type": "code",
   "execution_count": 2,
   "id": "0161c825",
   "metadata": {},
   "outputs": [
    {
     "data": {
      "text/html": [
       "<div>\n",
       "<style scoped>\n",
       "    .dataframe tbody tr th:only-of-type {\n",
       "        vertical-align: middle;\n",
       "    }\n",
       "\n",
       "    .dataframe tbody tr th {\n",
       "        vertical-align: top;\n",
       "    }\n",
       "\n",
       "    .dataframe thead th {\n",
       "        text-align: right;\n",
       "    }\n",
       "</style>\n",
       "<table border=\"1\" class=\"dataframe\">\n",
       "  <thead>\n",
       "    <tr style=\"text-align: right;\">\n",
       "      <th></th>\n",
       "      <th>Length</th>\n",
       "      <th>Diameter</th>\n",
       "      <th>Height</th>\n",
       "      <th>Whole weight</th>\n",
       "      <th>Shucked weight</th>\n",
       "      <th>Viscera weight</th>\n",
       "      <th>Shell weight</th>\n",
       "      <th>Age</th>\n",
       "    </tr>\n",
       "  </thead>\n",
       "  <tbody>\n",
       "    <tr>\n",
       "      <th>0</th>\n",
       "      <td>0.435</td>\n",
       "      <td>0.335</td>\n",
       "      <td>0.110</td>\n",
       "      <td>0.3340</td>\n",
       "      <td>0.1355</td>\n",
       "      <td>0.0775</td>\n",
       "      <td>0.0965</td>\n",
       "      <td>7</td>\n",
       "    </tr>\n",
       "    <tr>\n",
       "      <th>1</th>\n",
       "      <td>0.585</td>\n",
       "      <td>0.450</td>\n",
       "      <td>0.125</td>\n",
       "      <td>0.8740</td>\n",
       "      <td>0.3545</td>\n",
       "      <td>0.2075</td>\n",
       "      <td>0.2250</td>\n",
       "      <td>6</td>\n",
       "    </tr>\n",
       "    <tr>\n",
       "      <th>2</th>\n",
       "      <td>0.655</td>\n",
       "      <td>0.510</td>\n",
       "      <td>0.160</td>\n",
       "      <td>1.0920</td>\n",
       "      <td>0.3960</td>\n",
       "      <td>0.2825</td>\n",
       "      <td>0.3700</td>\n",
       "      <td>14</td>\n",
       "    </tr>\n",
       "    <tr>\n",
       "      <th>3</th>\n",
       "      <td>0.545</td>\n",
       "      <td>0.425</td>\n",
       "      <td>0.125</td>\n",
       "      <td>0.7680</td>\n",
       "      <td>0.2940</td>\n",
       "      <td>0.1495</td>\n",
       "      <td>0.2600</td>\n",
       "      <td>16</td>\n",
       "    </tr>\n",
       "    <tr>\n",
       "      <th>4</th>\n",
       "      <td>0.545</td>\n",
       "      <td>0.420</td>\n",
       "      <td>0.130</td>\n",
       "      <td>0.8790</td>\n",
       "      <td>0.3740</td>\n",
       "      <td>0.1695</td>\n",
       "      <td>0.2300</td>\n",
       "      <td>13</td>\n",
       "    </tr>\n",
       "    <tr>\n",
       "      <th>...</th>\n",
       "      <td>...</td>\n",
       "      <td>...</td>\n",
       "      <td>...</td>\n",
       "      <td>...</td>\n",
       "      <td>...</td>\n",
       "      <td>...</td>\n",
       "      <td>...</td>\n",
       "      <td>...</td>\n",
       "    </tr>\n",
       "    <tr>\n",
       "      <th>3315</th>\n",
       "      <td>0.605</td>\n",
       "      <td>0.475</td>\n",
       "      <td>0.180</td>\n",
       "      <td>0.9365</td>\n",
       "      <td>0.3940</td>\n",
       "      <td>0.2190</td>\n",
       "      <td>0.2950</td>\n",
       "      <td>15</td>\n",
       "    </tr>\n",
       "    <tr>\n",
       "      <th>3316</th>\n",
       "      <td>0.700</td>\n",
       "      <td>0.525</td>\n",
       "      <td>0.190</td>\n",
       "      <td>1.6015</td>\n",
       "      <td>0.7070</td>\n",
       "      <td>0.3650</td>\n",
       "      <td>0.4300</td>\n",
       "      <td>10</td>\n",
       "    </tr>\n",
       "    <tr>\n",
       "      <th>3317</th>\n",
       "      <td>0.530</td>\n",
       "      <td>0.420</td>\n",
       "      <td>0.130</td>\n",
       "      <td>0.8365</td>\n",
       "      <td>0.3745</td>\n",
       "      <td>0.1670</td>\n",
       "      <td>0.2490</td>\n",
       "      <td>11</td>\n",
       "    </tr>\n",
       "    <tr>\n",
       "      <th>3318</th>\n",
       "      <td>0.395</td>\n",
       "      <td>0.315</td>\n",
       "      <td>0.105</td>\n",
       "      <td>0.3515</td>\n",
       "      <td>0.1185</td>\n",
       "      <td>0.0910</td>\n",
       "      <td>0.1195</td>\n",
       "      <td>16</td>\n",
       "    </tr>\n",
       "    <tr>\n",
       "      <th>3319</th>\n",
       "      <td>0.450</td>\n",
       "      <td>0.355</td>\n",
       "      <td>0.120</td>\n",
       "      <td>0.4120</td>\n",
       "      <td>0.1145</td>\n",
       "      <td>0.0665</td>\n",
       "      <td>0.1600</td>\n",
       "      <td>19</td>\n",
       "    </tr>\n",
       "  </tbody>\n",
       "</table>\n",
       "<p>3320 rows × 8 columns</p>\n",
       "</div>"
      ],
      "text/plain": [
       "      Length  Diameter  Height  Whole weight  Shucked weight  Viscera weight  \\\n",
       "0      0.435     0.335   0.110        0.3340          0.1355          0.0775   \n",
       "1      0.585     0.450   0.125        0.8740          0.3545          0.2075   \n",
       "2      0.655     0.510   0.160        1.0920          0.3960          0.2825   \n",
       "3      0.545     0.425   0.125        0.7680          0.2940          0.1495   \n",
       "4      0.545     0.420   0.130        0.8790          0.3740          0.1695   \n",
       "...      ...       ...     ...           ...             ...             ...   \n",
       "3315   0.605     0.475   0.180        0.9365          0.3940          0.2190   \n",
       "3316   0.700     0.525   0.190        1.6015          0.7070          0.3650   \n",
       "3317   0.530     0.420   0.130        0.8365          0.3745          0.1670   \n",
       "3318   0.395     0.315   0.105        0.3515          0.1185          0.0910   \n",
       "3319   0.450     0.355   0.120        0.4120          0.1145          0.0665   \n",
       "\n",
       "      Shell weight  Age  \n",
       "0           0.0965    7  \n",
       "1           0.2250    6  \n",
       "2           0.3700   14  \n",
       "3           0.2600   16  \n",
       "4           0.2300   13  \n",
       "...            ...  ...  \n",
       "3315        0.2950   15  \n",
       "3316        0.4300   10  \n",
       "3317        0.2490   11  \n",
       "3318        0.1195   16  \n",
       "3319        0.1600   19  \n",
       "\n",
       "[3320 rows x 8 columns]"
      ]
     },
     "metadata": {},
     "output_type": "display_data"
    }
   ],
   "source": [
    "train_data = pd.read_csv(\"https://storage.googleapis.com/download.tensorflow.org/data/abalone_train.csv\",\n",
    "    names=[\"Length\", \"Diameter\", \"Height\", \"Whole weight\", \"Shucked weight\",\n",
    "           \"Viscera weight\", \"Shell weight\", \"Age\"])\n",
    "\n",
    "display(train_data)"
   ]
  },
  {
   "cell_type": "code",
   "execution_count": 12,
   "id": "85d36378",
   "metadata": {},
   "outputs": [
    {
     "name": "stdout",
     "output_type": "stream",
     "text": [
      "(3320, 7)\n",
      "(3320,)\n"
     ]
    }
   ],
   "source": [
    "x_train = train_data.copy()\n",
    "y_train = x_train.pop('Age')\n",
    "\n",
    "train_features = np.array(x_train)\n",
    "print(train_features.shape)\n",
    "print(y_train.shape)"
   ]
  },
  {
   "cell_type": "code",
   "execution_count": 20,
   "id": "159a61ec",
   "metadata": {},
   "outputs": [
    {
     "name": "stdout",
     "output_type": "stream",
     "text": [
      "Epoch 1/20\n",
      "104/104 [==============================] - 0s 562us/step - loss: 56.3421\n",
      "Epoch 2/20\n",
      "104/104 [==============================] - 0s 549us/step - loss: 11.1209\n",
      "Epoch 3/20\n",
      "104/104 [==============================] - 0s 503us/step - loss: 8.9998\n",
      "Epoch 4/20\n",
      "104/104 [==============================] - 0s 616us/step - loss: 8.3812\n",
      "Epoch 5/20\n",
      "104/104 [==============================] - 0s 536us/step - loss: 7.8497\n",
      "Epoch 6/20\n",
      "104/104 [==============================] - 0s 578us/step - loss: 7.4103\n",
      "Epoch 7/20\n",
      "104/104 [==============================] - 0s 561us/step - loss: 7.0904\n",
      "Epoch 8/20\n",
      "104/104 [==============================] - 0s 545us/step - loss: 6.8547\n",
      "Epoch 9/20\n",
      "104/104 [==============================] - 0s 552us/step - loss: 6.6882\n",
      "Epoch 10/20\n",
      "104/104 [==============================] - 0s 529us/step - loss: 6.5765\n",
      "Epoch 11/20\n",
      "104/104 [==============================] - 0s 594us/step - loss: 6.4703\n",
      "Epoch 12/20\n",
      "104/104 [==============================] - 0s 532us/step - loss: 6.3927\n",
      "Epoch 13/20\n",
      "104/104 [==============================] - 0s 566us/step - loss: 6.2988\n",
      "Epoch 14/20\n",
      "104/104 [==============================] - 0s 560us/step - loss: 6.2208\n",
      "Epoch 15/20\n",
      "104/104 [==============================] - 0s 523us/step - loss: 6.1432\n",
      "Epoch 16/20\n",
      "104/104 [==============================] - 0s 595us/step - loss: 6.0575\n",
      "Epoch 17/20\n",
      "104/104 [==============================] - 0s 578us/step - loss: 5.9804\n",
      "Epoch 18/20\n",
      "104/104 [==============================] - 0s 602us/step - loss: 5.8963\n",
      "Epoch 19/20\n",
      "104/104 [==============================] - 0s 643us/step - loss: 5.8042\n",
      "Epoch 20/20\n",
      "104/104 [==============================] - 0s 618us/step - loss: 5.7470\n"
     ]
    },
    {
     "data": {
      "text/plain": [
       "<keras.callbacks.History at 0x7f931c9a62e0>"
      ]
     },
     "execution_count": 20,
     "metadata": {},
     "output_type": "execute_result"
    }
   ],
   "source": [
    "model = tf.keras.Sequential([\n",
    "  tf.keras.layers.Flatten(),\n",
    "  layers.Dense(64),\n",
    "  layers.Dense(1)\n",
    "])\n",
    "\n",
    "model.compile(loss = tf.keras.losses.MeanSquaredError(),\n",
    "                      optimizer = tf.keras.optimizers.Adam())\n",
    "\n",
    "\n",
    "model.fit(train_features,y_train,epochs = 20)"
   ]
  },
  {
   "cell_type": "code",
   "execution_count": 21,
   "id": "7e6fa847",
   "metadata": {},
   "outputs": [
    {
     "name": "stdout",
     "output_type": "stream",
     "text": [
      "1/1 [==============================] - 0s 31ms/step\n",
      "[[12.726446]]\n"
     ]
    }
   ],
   "source": [
    "from keras.models import load_model, save_model\n",
    "\n",
    "model.save('model.h5')\n",
    "\n",
    "pr_array = [0.655,0.500, 0.140, 1.0920, 0.3000, 0.2825, 0.3700]\n",
    "\n",
    "print(model.predict([pr_array]))\n",
    "\n"
   ]
  },
  {
   "cell_type": "code",
   "execution_count": 8,
   "id": "3708a4d3",
   "metadata": {},
   "outputs": [
    {
     "data": {
      "text/plain": [
       "'/home/sayandeep/SayanD/Dataset'"
      ]
     },
     "execution_count": 8,
     "metadata": {},
     "output_type": "execute_result"
    }
   ],
   "source": [
    "import os\n",
    "os.getcwd()"
   ]
  },
  {
   "cell_type": "code",
   "execution_count": null,
   "id": "4dfcb43c",
   "metadata": {},
   "outputs": [],
   "source": []
  }
 ],
 "metadata": {
  "kernelspec": {
   "display_name": "Python 3 (ipykernel)",
   "language": "python",
   "name": "python3"
  },
  "language_info": {
   "codemirror_mode": {
    "name": "ipython",
    "version": 3
   },
   "file_extension": ".py",
   "mimetype": "text/x-python",
   "name": "python",
   "nbconvert_exporter": "python",
   "pygments_lexer": "ipython3",
   "version": "3.9.7"
  }
 },
 "nbformat": 4,
 "nbformat_minor": 5
}
